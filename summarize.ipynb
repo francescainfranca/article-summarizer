{
 "metadata": {
  "language_info": {
   "codemirror_mode": {
    "name": "ipython",
    "version": 3
   },
   "file_extension": ".py",
   "mimetype": "text/x-python",
   "name": "python",
   "nbconvert_exporter": "python",
   "pygments_lexer": "ipython3",
   "version": 3
  },
  "orig_nbformat": 2
 },
 "nbformat": 4,
 "nbformat_minor": 2,
 "cells": [
  {
   "cell_type": "code",
   "execution_count": null,
   "metadata": {},
   "outputs": [],
   "source": [
    "# Imports\n",
    "import requests\n",
    "from bs4 import BeautifulSoup\n",
    "\n",
    "# Retrieve page text\n",
    "url = 'https://hackaday.com/2021/04/20/a-look-at-the-most-aerodynamic-cars-ever-built/'\n",
    "page = requests.get(url)\n",
    "\n",
    "# Turn page into BeautifulSoup object to access HTML tags\n",
    "soup = BeautifulSoup(page.text, 'html5lib')\n",
    "TEXT = soup.find('div', {'itemprop': 'articleBody'}). get_text()\n",
    "\n",
    "import pickle\n",
    "with open('article.pkl', 'wb') as f:\n",
    "    pickle.dump(TEXT, f)"
   ]
  },
  {
   "cell_type": "code",
   "execution_count": null,
   "metadata": {},
   "outputs": [],
   "source": [
    "import pickle\n",
    "with open('article.pkl', 'rb') as f:\n",
    "    TEXT = pickle.load(f)"
   ]
  },
  {
   "cell_type": "code",
   "execution_count": null,
   "metadata": {},
   "outputs": [],
   "source": [
    "import spacy\n",
    "nlp = spacy.load('en_core_web_sm')\n",
    "article = nlp(TEXT)\n",
    "sents = list(article.sents)"
   ]
  },
  {
   "cell_type": "code",
   "execution_count": null,
   "metadata": {},
   "outputs": [],
   "source": [
    "tokens = []\n",
    "for token in article:\n",
    "    tokens.append(token.text)\n",
    "\n",
    "def we_care_about(t):\n",
    "    lexeme = nlp.vocab[t]\n",
    "    return not lexeme.is_space and not lexeme.is_punct and not lexeme.is_stop\n",
    "\n",
    "cool_tokens = [t for t in tokens if we_care_about(t)]"
   ]
  },
  {
   "cell_type": "code",
   "execution_count": null,
   "metadata": {},
   "outputs": [],
   "source": [
    "from collections import Counter\n",
    "\n",
    "freqs = Counter(map(lambda x: x.lower(), cool_tokens))\n",
    "N = 5\n",
    "interesting_words = [x for x,_ in freqs.most_common(N)]\n",
    "print(interesting_words)"
   ]
  },
  {
   "cell_type": "code",
   "execution_count": null,
   "metadata": {},
   "outputs": [],
   "source": [
    "word_weights = dict()\n",
    "most_common_freq = freqs.most_common(1)[0][1]\n",
    "weight_mult = 1 / most_common_freq\n",
    "for word in interesting_words:\n",
    "    word_weights[word] = freqs[word] * weight_mult"
   ]
  },
  {
   "cell_type": "code",
   "execution_count": null,
   "metadata": {},
   "outputs": [],
   "source": [
    "def score_sent(sent, weights):\n",
    "    score = 0.0\n",
    "    for word in sent:\n",
    "        score += weights.get(word.text.lower(), 0.0)\n",
    "    return score / len(sent)"
   ]
  },
  {
   "cell_type": "code",
   "execution_count": null,
   "metadata": {},
   "outputs": [],
   "source": [
    "sent_and_scores = []\n",
    "for sent in sents:\n",
    "    sent_and_scores.append((sent, score_sent(sent, word_weights)))"
   ]
  },
  {
   "cell_type": "code",
   "execution_count": null,
   "metadata": {},
   "outputs": [],
   "source": [
    "_,scores = zip(*sent_and_scores)\n",
    "\n",
    "import matplotlib.pyplot as plt\n",
    "plt.hist(scores)\n",
    "plt.show()"
   ]
  },
  {
   "cell_type": "code",
   "execution_count": null,
   "metadata": {},
   "outputs": [],
   "source": [
    "SCORE_THRESH = 0.05\n",
    "summary = filter(lambda sent_score: sent_score[1] >= SCORE_THRESH, sent_and_scores)\n",
    "for sent, score in summary:\n",
    "    print(sent.text.strip())\n",
    "\n",
    "\n"
   ]
  }
 ]
}